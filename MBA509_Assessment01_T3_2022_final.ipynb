{
  "cells": [
    {
      "cell_type": "markdown",
      "metadata": {
        "id": "hNQHrwbxQ7Q6"
      },
      "source": [
        "# MBA509 ASSESSMENT #1 TRIMESTER #3 2022\n",
        "\n",
        "# SKILLS BUILDING\n",
        "\n",
        "## This assessment requires you to create different kinds of Neural Networks.\n",
        "## The steps for each have been defined, but you will need to create a \"variable\" in specific place i.e., replace with the name of your Pokemon.\n",
        "\n",
        "## Remember that a variable is simply a name or label that you create to store data.\n",
        "\n",
        "## Hints: Read each section and follow the instructions very carefully."
      ]
    },
    {
      "cell_type": "markdown",
      "metadata": {
        "id": "OhdiSBq6R2se"
      },
      "source": [
        "# Pre-requisites\n",
        "\n",
        "\n",
        "\n",
        "1.   Make a copy of this Google Colab Notebook for yourself\n",
        "2.   Once you have saved your copy, rename your notebook: student_ID_name_MBA509_Assessment01_T1_2022.ipynb\n",
        "\n",
        "\n"
      ]
    },
    {
      "cell_type": "markdown",
      "metadata": {
        "id": "3iNT61bsQ7Q7"
      },
      "source": [
        "# PART 1: INSTALLING AND IMPORTING MODULES [2 mark]\n",
        "\n",
        "* Run the imports by pressing play"
      ]
    },
    {
      "cell_type": "code",
      "execution_count": 1,
      "metadata": {
        "colab": {
          "base_uri": "https://localhost:8080/"
        },
        "id": "rEcF8Diqmqt4",
        "outputId": "7e411394-888f-41d8-e548-d54573253646"
      },
      "outputs": [
        {
          "output_type": "stream",
          "name": "stdout",
          "text": [
            "Looking in indexes: https://pypi.org/simple, https://us-python.pkg.dev/colab-wheels/public/simple/\n",
            "Collecting tensorflow_text\n",
            "  Downloading tensorflow_text-2.11.0-cp38-cp38-manylinux_2_17_x86_64.manylinux2014_x86_64.whl (5.8 MB)\n",
            "\u001b[K     |████████████████████████████████| 5.8 MB 7.1 MB/s \n",
            "\u001b[?25hRequirement already satisfied: tensorflow-hub>=0.8.0 in /usr/local/lib/python3.8/dist-packages (from tensorflow_text) (0.12.0)\n",
            "Collecting tensorflow<2.12,>=2.11.0\n",
            "  Downloading tensorflow-2.11.0-cp38-cp38-manylinux_2_17_x86_64.manylinux2014_x86_64.whl (588.3 MB)\n",
            "\u001b[K     |████████████████████████████████| 588.3 MB 18 kB/s \n",
            "\u001b[?25hCollecting flatbuffers>=2.0\n",
            "  Downloading flatbuffers-22.12.6-py2.py3-none-any.whl (26 kB)\n",
            "Requirement already satisfied: opt-einsum>=2.3.2 in /usr/local/lib/python3.8/dist-packages (from tensorflow<2.12,>=2.11.0->tensorflow_text) (3.3.0)\n",
            "Requirement already satisfied: setuptools in /usr/local/lib/python3.8/dist-packages (from tensorflow<2.12,>=2.11.0->tensorflow_text) (57.4.0)\n",
            "Requirement already satisfied: packaging in /usr/local/lib/python3.8/dist-packages (from tensorflow<2.12,>=2.11.0->tensorflow_text) (21.3)\n",
            "Collecting tensorboard<2.12,>=2.11\n",
            "  Downloading tensorboard-2.11.0-py3-none-any.whl (6.0 MB)\n",
            "\u001b[K     |████████████████████████████████| 6.0 MB 30.6 MB/s \n",
            "\u001b[?25hRequirement already satisfied: wrapt>=1.11.0 in /usr/local/lib/python3.8/dist-packages (from tensorflow<2.12,>=2.11.0->tensorflow_text) (1.14.1)\n",
            "Requirement already satisfied: termcolor>=1.1.0 in /usr/local/lib/python3.8/dist-packages (from tensorflow<2.12,>=2.11.0->tensorflow_text) (2.1.1)\n",
            "Requirement already satisfied: six>=1.12.0 in /usr/local/lib/python3.8/dist-packages (from tensorflow<2.12,>=2.11.0->tensorflow_text) (1.15.0)\n",
            "Requirement already satisfied: google-pasta>=0.1.1 in /usr/local/lib/python3.8/dist-packages (from tensorflow<2.12,>=2.11.0->tensorflow_text) (0.2.0)\n",
            "Requirement already satisfied: tensorflow-io-gcs-filesystem>=0.23.1 in /usr/local/lib/python3.8/dist-packages (from tensorflow<2.12,>=2.11.0->tensorflow_text) (0.28.0)\n",
            "Collecting keras<2.12,>=2.11.0\n",
            "  Downloading keras-2.11.0-py2.py3-none-any.whl (1.7 MB)\n",
            "\u001b[K     |████████████████████████████████| 1.7 MB 41.2 MB/s \n",
            "\u001b[?25hRequirement already satisfied: libclang>=13.0.0 in /usr/local/lib/python3.8/dist-packages (from tensorflow<2.12,>=2.11.0->tensorflow_text) (14.0.6)\n",
            "Requirement already satisfied: typing-extensions>=3.6.6 in /usr/local/lib/python3.8/dist-packages (from tensorflow<2.12,>=2.11.0->tensorflow_text) (4.4.0)\n",
            "Requirement already satisfied: gast<=0.4.0,>=0.2.1 in /usr/local/lib/python3.8/dist-packages (from tensorflow<2.12,>=2.11.0->tensorflow_text) (0.4.0)\n",
            "Requirement already satisfied: numpy>=1.20 in /usr/local/lib/python3.8/dist-packages (from tensorflow<2.12,>=2.11.0->tensorflow_text) (1.21.6)\n",
            "Requirement already satisfied: protobuf<3.20,>=3.9.2 in /usr/local/lib/python3.8/dist-packages (from tensorflow<2.12,>=2.11.0->tensorflow_text) (3.19.6)\n",
            "Collecting tensorflow-estimator<2.12,>=2.11.0\n",
            "  Downloading tensorflow_estimator-2.11.0-py2.py3-none-any.whl (439 kB)\n",
            "\u001b[K     |████████████████████████████████| 439 kB 57.6 MB/s \n",
            "\u001b[?25hRequirement already satisfied: absl-py>=1.0.0 in /usr/local/lib/python3.8/dist-packages (from tensorflow<2.12,>=2.11.0->tensorflow_text) (1.3.0)\n",
            "Requirement already satisfied: astunparse>=1.6.0 in /usr/local/lib/python3.8/dist-packages (from tensorflow<2.12,>=2.11.0->tensorflow_text) (1.6.3)\n",
            "Requirement already satisfied: grpcio<2.0,>=1.24.3 in /usr/local/lib/python3.8/dist-packages (from tensorflow<2.12,>=2.11.0->tensorflow_text) (1.51.1)\n",
            "Requirement already satisfied: h5py>=2.9.0 in /usr/local/lib/python3.8/dist-packages (from tensorflow<2.12,>=2.11.0->tensorflow_text) (3.1.0)\n",
            "Requirement already satisfied: wheel<1.0,>=0.23.0 in /usr/local/lib/python3.8/dist-packages (from astunparse>=1.6.0->tensorflow<2.12,>=2.11.0->tensorflow_text) (0.38.4)\n",
            "Requirement already satisfied: markdown>=2.6.8 in /usr/local/lib/python3.8/dist-packages (from tensorboard<2.12,>=2.11->tensorflow<2.12,>=2.11.0->tensorflow_text) (3.4.1)\n",
            "Requirement already satisfied: werkzeug>=1.0.1 in /usr/local/lib/python3.8/dist-packages (from tensorboard<2.12,>=2.11->tensorflow<2.12,>=2.11.0->tensorflow_text) (1.0.1)\n",
            "Requirement already satisfied: requests<3,>=2.21.0 in /usr/local/lib/python3.8/dist-packages (from tensorboard<2.12,>=2.11->tensorflow<2.12,>=2.11.0->tensorflow_text) (2.23.0)\n",
            "Requirement already satisfied: tensorboard-plugin-wit>=1.6.0 in /usr/local/lib/python3.8/dist-packages (from tensorboard<2.12,>=2.11->tensorflow<2.12,>=2.11.0->tensorflow_text) (1.8.1)\n",
            "Requirement already satisfied: google-auth-oauthlib<0.5,>=0.4.1 in /usr/local/lib/python3.8/dist-packages (from tensorboard<2.12,>=2.11->tensorflow<2.12,>=2.11.0->tensorflow_text) (0.4.6)\n",
            "Requirement already satisfied: tensorboard-data-server<0.7.0,>=0.6.0 in /usr/local/lib/python3.8/dist-packages (from tensorboard<2.12,>=2.11->tensorflow<2.12,>=2.11.0->tensorflow_text) (0.6.1)\n",
            "Requirement already satisfied: google-auth<3,>=1.6.3 in /usr/local/lib/python3.8/dist-packages (from tensorboard<2.12,>=2.11->tensorflow<2.12,>=2.11.0->tensorflow_text) (2.15.0)\n",
            "Requirement already satisfied: rsa<5,>=3.1.4 in /usr/local/lib/python3.8/dist-packages (from google-auth<3,>=1.6.3->tensorboard<2.12,>=2.11->tensorflow<2.12,>=2.11.0->tensorflow_text) (4.9)\n",
            "Requirement already satisfied: cachetools<6.0,>=2.0.0 in /usr/local/lib/python3.8/dist-packages (from google-auth<3,>=1.6.3->tensorboard<2.12,>=2.11->tensorflow<2.12,>=2.11.0->tensorflow_text) (5.2.0)\n",
            "Requirement already satisfied: pyasn1-modules>=0.2.1 in /usr/local/lib/python3.8/dist-packages (from google-auth<3,>=1.6.3->tensorboard<2.12,>=2.11->tensorflow<2.12,>=2.11.0->tensorflow_text) (0.2.8)\n",
            "Requirement already satisfied: requests-oauthlib>=0.7.0 in /usr/local/lib/python3.8/dist-packages (from google-auth-oauthlib<0.5,>=0.4.1->tensorboard<2.12,>=2.11->tensorflow<2.12,>=2.11.0->tensorflow_text) (1.3.1)\n",
            "Requirement already satisfied: importlib-metadata>=4.4 in /usr/local/lib/python3.8/dist-packages (from markdown>=2.6.8->tensorboard<2.12,>=2.11->tensorflow<2.12,>=2.11.0->tensorflow_text) (4.13.0)\n",
            "Requirement already satisfied: zipp>=0.5 in /usr/local/lib/python3.8/dist-packages (from importlib-metadata>=4.4->markdown>=2.6.8->tensorboard<2.12,>=2.11->tensorflow<2.12,>=2.11.0->tensorflow_text) (3.11.0)\n",
            "Requirement already satisfied: pyasn1<0.5.0,>=0.4.6 in /usr/local/lib/python3.8/dist-packages (from pyasn1-modules>=0.2.1->google-auth<3,>=1.6.3->tensorboard<2.12,>=2.11->tensorflow<2.12,>=2.11.0->tensorflow_text) (0.4.8)\n",
            "Requirement already satisfied: certifi>=2017.4.17 in /usr/local/lib/python3.8/dist-packages (from requests<3,>=2.21.0->tensorboard<2.12,>=2.11->tensorflow<2.12,>=2.11.0->tensorflow_text) (2022.9.24)\n",
            "Requirement already satisfied: urllib3!=1.25.0,!=1.25.1,<1.26,>=1.21.1 in /usr/local/lib/python3.8/dist-packages (from requests<3,>=2.21.0->tensorboard<2.12,>=2.11->tensorflow<2.12,>=2.11.0->tensorflow_text) (1.24.3)\n",
            "Requirement already satisfied: chardet<4,>=3.0.2 in /usr/local/lib/python3.8/dist-packages (from requests<3,>=2.21.0->tensorboard<2.12,>=2.11->tensorflow<2.12,>=2.11.0->tensorflow_text) (3.0.4)\n",
            "Requirement already satisfied: idna<3,>=2.5 in /usr/local/lib/python3.8/dist-packages (from requests<3,>=2.21.0->tensorboard<2.12,>=2.11->tensorflow<2.12,>=2.11.0->tensorflow_text) (2.10)\n",
            "Requirement already satisfied: oauthlib>=3.0.0 in /usr/local/lib/python3.8/dist-packages (from requests-oauthlib>=0.7.0->google-auth-oauthlib<0.5,>=0.4.1->tensorboard<2.12,>=2.11->tensorflow<2.12,>=2.11.0->tensorflow_text) (3.2.2)\n",
            "Requirement already satisfied: pyparsing!=3.0.5,>=2.0.2 in /usr/local/lib/python3.8/dist-packages (from packaging->tensorflow<2.12,>=2.11.0->tensorflow_text) (3.0.9)\n",
            "Installing collected packages: tensorflow-estimator, tensorboard, keras, flatbuffers, tensorflow, tensorflow-text\n",
            "  Attempting uninstall: tensorflow-estimator\n",
            "    Found existing installation: tensorflow-estimator 2.9.0\n",
            "    Uninstalling tensorflow-estimator-2.9.0:\n",
            "      Successfully uninstalled tensorflow-estimator-2.9.0\n",
            "  Attempting uninstall: tensorboard\n",
            "    Found existing installation: tensorboard 2.9.1\n",
            "    Uninstalling tensorboard-2.9.1:\n",
            "      Successfully uninstalled tensorboard-2.9.1\n",
            "  Attempting uninstall: keras\n",
            "    Found existing installation: keras 2.9.0\n",
            "    Uninstalling keras-2.9.0:\n",
            "      Successfully uninstalled keras-2.9.0\n",
            "  Attempting uninstall: flatbuffers\n",
            "    Found existing installation: flatbuffers 1.12\n",
            "    Uninstalling flatbuffers-1.12:\n",
            "      Successfully uninstalled flatbuffers-1.12\n",
            "  Attempting uninstall: tensorflow\n",
            "    Found existing installation: tensorflow 2.9.2\n",
            "    Uninstalling tensorflow-2.9.2:\n",
            "      Successfully uninstalled tensorflow-2.9.2\n",
            "Successfully installed flatbuffers-22.12.6 keras-2.11.0 tensorboard-2.11.0 tensorflow-2.11.0 tensorflow-estimator-2.11.0 tensorflow-text-2.11.0\n"
          ]
        }
      ],
      "source": [
        "# install required pyton library\n",
        "!pip install tensorflow_text"
      ]
    },
    {
      "cell_type": "code",
      "execution_count": 2,
      "metadata": {
        "colab": {
          "base_uri": "https://localhost:8080/"
        },
        "id": "kBQHON-4fpXL",
        "outputId": "4a563359-8270-422d-98f5-069691ab6c6b"
      },
      "outputs": [
        {
          "output_type": "stream",
          "name": "stdout",
          "text": [
            "Looking in indexes: https://pypi.org/simple, https://us-python.pkg.dev/colab-wheels/public/simple/\n",
            "Requirement already satisfied: tensorflow in /usr/local/lib/python3.8/dist-packages (2.11.0)\n",
            "Requirement already satisfied: h5py>=2.9.0 in /usr/local/lib/python3.8/dist-packages (from tensorflow) (3.1.0)\n",
            "Requirement already satisfied: six>=1.12.0 in /usr/local/lib/python3.8/dist-packages (from tensorflow) (1.15.0)\n",
            "Requirement already satisfied: absl-py>=1.0.0 in /usr/local/lib/python3.8/dist-packages (from tensorflow) (1.3.0)\n",
            "Requirement already satisfied: tensorboard<2.12,>=2.11 in /usr/local/lib/python3.8/dist-packages (from tensorflow) (2.11.0)\n",
            "Requirement already satisfied: numpy>=1.20 in /usr/local/lib/python3.8/dist-packages (from tensorflow) (1.21.6)\n",
            "Requirement already satisfied: google-pasta>=0.1.1 in /usr/local/lib/python3.8/dist-packages (from tensorflow) (0.2.0)\n",
            "Requirement already satisfied: packaging in /usr/local/lib/python3.8/dist-packages (from tensorflow) (21.3)\n",
            "Requirement already satisfied: opt-einsum>=2.3.2 in /usr/local/lib/python3.8/dist-packages (from tensorflow) (3.3.0)\n",
            "Requirement already satisfied: gast<=0.4.0,>=0.2.1 in /usr/local/lib/python3.8/dist-packages (from tensorflow) (0.4.0)\n",
            "Requirement already satisfied: grpcio<2.0,>=1.24.3 in /usr/local/lib/python3.8/dist-packages (from tensorflow) (1.51.1)\n",
            "Requirement already satisfied: typing-extensions>=3.6.6 in /usr/local/lib/python3.8/dist-packages (from tensorflow) (4.4.0)\n",
            "Requirement already satisfied: wrapt>=1.11.0 in /usr/local/lib/python3.8/dist-packages (from tensorflow) (1.14.1)\n",
            "Requirement already satisfied: tensorflow-io-gcs-filesystem>=0.23.1 in /usr/local/lib/python3.8/dist-packages (from tensorflow) (0.28.0)\n",
            "Requirement already satisfied: keras<2.12,>=2.11.0 in /usr/local/lib/python3.8/dist-packages (from tensorflow) (2.11.0)\n",
            "Requirement already satisfied: tensorflow-estimator<2.12,>=2.11.0 in /usr/local/lib/python3.8/dist-packages (from tensorflow) (2.11.0)\n",
            "Requirement already satisfied: astunparse>=1.6.0 in /usr/local/lib/python3.8/dist-packages (from tensorflow) (1.6.3)\n",
            "Requirement already satisfied: flatbuffers>=2.0 in /usr/local/lib/python3.8/dist-packages (from tensorflow) (22.12.6)\n",
            "Requirement already satisfied: libclang>=13.0.0 in /usr/local/lib/python3.8/dist-packages (from tensorflow) (14.0.6)\n",
            "Requirement already satisfied: setuptools in /usr/local/lib/python3.8/dist-packages (from tensorflow) (57.4.0)\n",
            "Requirement already satisfied: protobuf<3.20,>=3.9.2 in /usr/local/lib/python3.8/dist-packages (from tensorflow) (3.19.6)\n",
            "Requirement already satisfied: termcolor>=1.1.0 in /usr/local/lib/python3.8/dist-packages (from tensorflow) (2.1.1)\n",
            "Requirement already satisfied: wheel<1.0,>=0.23.0 in /usr/local/lib/python3.8/dist-packages (from astunparse>=1.6.0->tensorflow) (0.38.4)\n",
            "Requirement already satisfied: requests<3,>=2.21.0 in /usr/local/lib/python3.8/dist-packages (from tensorboard<2.12,>=2.11->tensorflow) (2.23.0)\n",
            "Requirement already satisfied: werkzeug>=1.0.1 in /usr/local/lib/python3.8/dist-packages (from tensorboard<2.12,>=2.11->tensorflow) (1.0.1)\n",
            "Requirement already satisfied: tensorboard-plugin-wit>=1.6.0 in /usr/local/lib/python3.8/dist-packages (from tensorboard<2.12,>=2.11->tensorflow) (1.8.1)\n",
            "Requirement already satisfied: google-auth-oauthlib<0.5,>=0.4.1 in /usr/local/lib/python3.8/dist-packages (from tensorboard<2.12,>=2.11->tensorflow) (0.4.6)\n",
            "Requirement already satisfied: markdown>=2.6.8 in /usr/local/lib/python3.8/dist-packages (from tensorboard<2.12,>=2.11->tensorflow) (3.4.1)\n",
            "Requirement already satisfied: google-auth<3,>=1.6.3 in /usr/local/lib/python3.8/dist-packages (from tensorboard<2.12,>=2.11->tensorflow) (2.15.0)\n",
            "Requirement already satisfied: tensorboard-data-server<0.7.0,>=0.6.0 in /usr/local/lib/python3.8/dist-packages (from tensorboard<2.12,>=2.11->tensorflow) (0.6.1)\n",
            "Requirement already satisfied: pyasn1-modules>=0.2.1 in /usr/local/lib/python3.8/dist-packages (from google-auth<3,>=1.6.3->tensorboard<2.12,>=2.11->tensorflow) (0.2.8)\n",
            "Requirement already satisfied: cachetools<6.0,>=2.0.0 in /usr/local/lib/python3.8/dist-packages (from google-auth<3,>=1.6.3->tensorboard<2.12,>=2.11->tensorflow) (5.2.0)\n",
            "Requirement already satisfied: rsa<5,>=3.1.4 in /usr/local/lib/python3.8/dist-packages (from google-auth<3,>=1.6.3->tensorboard<2.12,>=2.11->tensorflow) (4.9)\n",
            "Requirement already satisfied: requests-oauthlib>=0.7.0 in /usr/local/lib/python3.8/dist-packages (from google-auth-oauthlib<0.5,>=0.4.1->tensorboard<2.12,>=2.11->tensorflow) (1.3.1)\n",
            "Requirement already satisfied: importlib-metadata>=4.4 in /usr/local/lib/python3.8/dist-packages (from markdown>=2.6.8->tensorboard<2.12,>=2.11->tensorflow) (4.13.0)\n",
            "Requirement already satisfied: zipp>=0.5 in /usr/local/lib/python3.8/dist-packages (from importlib-metadata>=4.4->markdown>=2.6.8->tensorboard<2.12,>=2.11->tensorflow) (3.11.0)\n",
            "Requirement already satisfied: pyasn1<0.5.0,>=0.4.6 in /usr/local/lib/python3.8/dist-packages (from pyasn1-modules>=0.2.1->google-auth<3,>=1.6.3->tensorboard<2.12,>=2.11->tensorflow) (0.4.8)\n",
            "Requirement already satisfied: chardet<4,>=3.0.2 in /usr/local/lib/python3.8/dist-packages (from requests<3,>=2.21.0->tensorboard<2.12,>=2.11->tensorflow) (3.0.4)\n",
            "Requirement already satisfied: idna<3,>=2.5 in /usr/local/lib/python3.8/dist-packages (from requests<3,>=2.21.0->tensorboard<2.12,>=2.11->tensorflow) (2.10)\n",
            "Requirement already satisfied: urllib3!=1.25.0,!=1.25.1,<1.26,>=1.21.1 in /usr/local/lib/python3.8/dist-packages (from requests<3,>=2.21.0->tensorboard<2.12,>=2.11->tensorflow) (1.24.3)\n",
            "Requirement already satisfied: certifi>=2017.4.17 in /usr/local/lib/python3.8/dist-packages (from requests<3,>=2.21.0->tensorboard<2.12,>=2.11->tensorflow) (2022.9.24)\n",
            "Requirement already satisfied: oauthlib>=3.0.0 in /usr/local/lib/python3.8/dist-packages (from requests-oauthlib>=0.7.0->google-auth-oauthlib<0.5,>=0.4.1->tensorboard<2.12,>=2.11->tensorflow) (3.2.2)\n",
            "Requirement already satisfied: pyparsing!=3.0.5,>=2.0.2 in /usr/local/lib/python3.8/dist-packages (from packaging->tensorflow) (3.0.9)\n"
          ]
        }
      ],
      "source": [
        "%pip install tensorflow"
      ]
    },
    {
      "cell_type": "markdown",
      "metadata": {
        "id": "ytFJY9XE0r6h"
      },
      "source": [
        "# Import Libraries"
      ]
    },
    {
      "cell_type": "code",
      "execution_count": 3,
      "metadata": {
        "id": "Gr4gYaVxQ7Q8"
      },
      "outputs": [],
      "source": [
        "# importing the required libraries\n",
        "import pandas as pd\n",
        "import numpy as np\n",
        "import tensorflow as tf\n",
        "import tensorflow_hub as hub\n",
        "import tensorflow_text as tf_text\n",
        "from keras.backend import set_session\n",
        "from tensorflow import keras\n",
        "from tensorflow.keras import layers\n",
        "import keras\n",
        "from tensorflow.keras import datasets\n",
        "import matplotlib.pyplot as plt"
      ]
    },
    {
      "cell_type": "markdown",
      "metadata": {
        "id": "j3LkHPnaQ7Q8"
      },
      "source": [
        "# PART 2: LOADING DATA AND CREATE A DATAFRAME [2 marks]\n",
        "\n",
        "##* Below is the URL to the CSV Data"
      ]
    },
    {
      "cell_type": "code",
      "execution_count": 4,
      "metadata": {
        "id": "hjh2A8MSQ7Q9"
      },
      "outputs": [],
      "source": [
        "# this is the URL to the CSV data\n",
        "FX_ORDERS_URL = 'https://s3.ap-northeast-1.wasabisys.com/pubdatasets/2014_FX_PNP_orders.csv'"
      ]
    },
    {
      "cell_type": "code",
      "execution_count": 5,
      "metadata": {
        "colab": {
          "base_uri": "https://localhost:8080/",
          "height": 35
        },
        "id": "r9kvOlI1c29s",
        "outputId": "a848a107-be60-43e8-c86b-ce99f6742c3d"
      },
      "outputs": [
        {
          "output_type": "execute_result",
          "data": {
            "text/plain": [
              "'https://s3.ap-northeast-1.wasabisys.com/pubdatasets/2014_FX_PNP_orders.csv'"
            ],
            "application/vnd.google.colaboratory.intrinsic+json": {
              "type": "string"
            }
          },
          "metadata": {},
          "execution_count": 5
        }
      ],
      "source": [
        "FX_ORDERS_URL"
      ]
    },
    {
      "cell_type": "markdown",
      "metadata": {
        "id": "qWJ6d72PQ7Q9"
      },
      "source": [
        "# Load Data & Create Dataframe\n",
        "\n",
        "##*  the dataset: is a list of foreign currency transactions for a bank for each branch across the country\n",
        "##*  give the 'my_dataframe_name' a meaningful variable name or label\n",
        "##*  copy or type FX_ORDERS_URL for Pandas to read the CSV file\n",
        "##*  run the code cell to create a dataframe"
      ]
    },
    {
      "cell_type": "code",
      "execution_count": 6,
      "metadata": {
        "id": "yHoH6MSfQ7Q9"
      },
      "outputs": [],
      "source": [
        "# use pandas to load the CSV data\n",
        "# hint: what should go inside the parenthesis?\n",
        "fx_df = pd.read_csv(FX_ORDERS_URL)"
      ]
    },
    {
      "cell_type": "code",
      "execution_count": 7,
      "metadata": {
        "colab": {
          "base_uri": "https://localhost:8080/",
          "height": 424
        },
        "id": "_uuWxrkzgZld",
        "outputId": "45eb5156-3cb7-4a98-d4f3-e5bd91523fc1"
      },
      "outputs": [
        {
          "output_type": "execute_result",
          "data": {
            "text/plain": [
              "             Date                 Branch Product Currency  CurrencyAmt  \\\n",
              "0      2014-05-01    48 MARTIN PL SYDNEY   Notes      CZK        51900   \n",
              "1      2014-05-01   66 EAGLE ST BRISBANE   Notes      IDR     19500000   \n",
              "2      2014-05-01           ALBANY CREEK   Notes      EGP         2730   \n",
              "3      2014-05-01            Albion Park   Notes      CNY         5285   \n",
              "4      2014-05-01            Albion Park   Notes      HKD          690   \n",
              "...           ...                    ...     ...      ...          ...   \n",
              "10869  2014-06-30            WYNYARD TAS   Notes      USD         1000   \n",
              "10870  2014-06-30             YARRA GLEN   Notes      THB        57700   \n",
              "10871  2014-06-30             YARRA GLEN   Notes      NZD          300   \n",
              "10872  2014-06-30             YARRAWONGA   Notes      USD          600   \n",
              "10873  2014-06-30                  YOUNG   Notes      USD          250   \n",
              "\n",
              "       CustRate  CustAUD State  \n",
              "0         16.19  3205.66   NSW  \n",
              "1       9732.88  2003.52   QLD  \n",
              "2          5.46   500.23   QLD  \n",
              "3          5.28  1000.55   NSW  \n",
              "4          6.85   100.80   NSW  \n",
              "...         ...      ...   ...  \n",
              "10869      0.90  1109.63   TAS  \n",
              "10870     28.85  2000.00   VIC  \n",
              "10871      1.02   292.77   VIC  \n",
              "10872      0.90   664.97   VIC  \n",
              "10873      0.90   277.41   NSW  \n",
              "\n",
              "[10874 rows x 8 columns]"
            ],
            "text/html": [
              "\n",
              "  <div id=\"df-27c63778-f857-4cc4-81af-60a8085443b3\">\n",
              "    <div class=\"colab-df-container\">\n",
              "      <div>\n",
              "<style scoped>\n",
              "    .dataframe tbody tr th:only-of-type {\n",
              "        vertical-align: middle;\n",
              "    }\n",
              "\n",
              "    .dataframe tbody tr th {\n",
              "        vertical-align: top;\n",
              "    }\n",
              "\n",
              "    .dataframe thead th {\n",
              "        text-align: right;\n",
              "    }\n",
              "</style>\n",
              "<table border=\"1\" class=\"dataframe\">\n",
              "  <thead>\n",
              "    <tr style=\"text-align: right;\">\n",
              "      <th></th>\n",
              "      <th>Date</th>\n",
              "      <th>Branch</th>\n",
              "      <th>Product</th>\n",
              "      <th>Currency</th>\n",
              "      <th>CurrencyAmt</th>\n",
              "      <th>CustRate</th>\n",
              "      <th>CustAUD</th>\n",
              "      <th>State</th>\n",
              "    </tr>\n",
              "  </thead>\n",
              "  <tbody>\n",
              "    <tr>\n",
              "      <th>0</th>\n",
              "      <td>2014-05-01</td>\n",
              "      <td>48 MARTIN PL SYDNEY</td>\n",
              "      <td>Notes</td>\n",
              "      <td>CZK</td>\n",
              "      <td>51900</td>\n",
              "      <td>16.19</td>\n",
              "      <td>3205.66</td>\n",
              "      <td>NSW</td>\n",
              "    </tr>\n",
              "    <tr>\n",
              "      <th>1</th>\n",
              "      <td>2014-05-01</td>\n",
              "      <td>66 EAGLE ST BRISBANE</td>\n",
              "      <td>Notes</td>\n",
              "      <td>IDR</td>\n",
              "      <td>19500000</td>\n",
              "      <td>9732.88</td>\n",
              "      <td>2003.52</td>\n",
              "      <td>QLD</td>\n",
              "    </tr>\n",
              "    <tr>\n",
              "      <th>2</th>\n",
              "      <td>2014-05-01</td>\n",
              "      <td>ALBANY CREEK</td>\n",
              "      <td>Notes</td>\n",
              "      <td>EGP</td>\n",
              "      <td>2730</td>\n",
              "      <td>5.46</td>\n",
              "      <td>500.23</td>\n",
              "      <td>QLD</td>\n",
              "    </tr>\n",
              "    <tr>\n",
              "      <th>3</th>\n",
              "      <td>2014-05-01</td>\n",
              "      <td>Albion Park</td>\n",
              "      <td>Notes</td>\n",
              "      <td>CNY</td>\n",
              "      <td>5285</td>\n",
              "      <td>5.28</td>\n",
              "      <td>1000.55</td>\n",
              "      <td>NSW</td>\n",
              "    </tr>\n",
              "    <tr>\n",
              "      <th>4</th>\n",
              "      <td>2014-05-01</td>\n",
              "      <td>Albion Park</td>\n",
              "      <td>Notes</td>\n",
              "      <td>HKD</td>\n",
              "      <td>690</td>\n",
              "      <td>6.85</td>\n",
              "      <td>100.80</td>\n",
              "      <td>NSW</td>\n",
              "    </tr>\n",
              "    <tr>\n",
              "      <th>...</th>\n",
              "      <td>...</td>\n",
              "      <td>...</td>\n",
              "      <td>...</td>\n",
              "      <td>...</td>\n",
              "      <td>...</td>\n",
              "      <td>...</td>\n",
              "      <td>...</td>\n",
              "      <td>...</td>\n",
              "    </tr>\n",
              "    <tr>\n",
              "      <th>10869</th>\n",
              "      <td>2014-06-30</td>\n",
              "      <td>WYNYARD TAS</td>\n",
              "      <td>Notes</td>\n",
              "      <td>USD</td>\n",
              "      <td>1000</td>\n",
              "      <td>0.90</td>\n",
              "      <td>1109.63</td>\n",
              "      <td>TAS</td>\n",
              "    </tr>\n",
              "    <tr>\n",
              "      <th>10870</th>\n",
              "      <td>2014-06-30</td>\n",
              "      <td>YARRA GLEN</td>\n",
              "      <td>Notes</td>\n",
              "      <td>THB</td>\n",
              "      <td>57700</td>\n",
              "      <td>28.85</td>\n",
              "      <td>2000.00</td>\n",
              "      <td>VIC</td>\n",
              "    </tr>\n",
              "    <tr>\n",
              "      <th>10871</th>\n",
              "      <td>2014-06-30</td>\n",
              "      <td>YARRA GLEN</td>\n",
              "      <td>Notes</td>\n",
              "      <td>NZD</td>\n",
              "      <td>300</td>\n",
              "      <td>1.02</td>\n",
              "      <td>292.77</td>\n",
              "      <td>VIC</td>\n",
              "    </tr>\n",
              "    <tr>\n",
              "      <th>10872</th>\n",
              "      <td>2014-06-30</td>\n",
              "      <td>YARRAWONGA</td>\n",
              "      <td>Notes</td>\n",
              "      <td>USD</td>\n",
              "      <td>600</td>\n",
              "      <td>0.90</td>\n",
              "      <td>664.97</td>\n",
              "      <td>VIC</td>\n",
              "    </tr>\n",
              "    <tr>\n",
              "      <th>10873</th>\n",
              "      <td>2014-06-30</td>\n",
              "      <td>YOUNG</td>\n",
              "      <td>Notes</td>\n",
              "      <td>USD</td>\n",
              "      <td>250</td>\n",
              "      <td>0.90</td>\n",
              "      <td>277.41</td>\n",
              "      <td>NSW</td>\n",
              "    </tr>\n",
              "  </tbody>\n",
              "</table>\n",
              "<p>10874 rows × 8 columns</p>\n",
              "</div>\n",
              "      <button class=\"colab-df-convert\" onclick=\"convertToInteractive('df-27c63778-f857-4cc4-81af-60a8085443b3')\"\n",
              "              title=\"Convert this dataframe to an interactive table.\"\n",
              "              style=\"display:none;\">\n",
              "        \n",
              "  <svg xmlns=\"http://www.w3.org/2000/svg\" height=\"24px\"viewBox=\"0 0 24 24\"\n",
              "       width=\"24px\">\n",
              "    <path d=\"M0 0h24v24H0V0z\" fill=\"none\"/>\n",
              "    <path d=\"M18.56 5.44l.94 2.06.94-2.06 2.06-.94-2.06-.94-.94-2.06-.94 2.06-2.06.94zm-11 1L8.5 8.5l.94-2.06 2.06-.94-2.06-.94L8.5 2.5l-.94 2.06-2.06.94zm10 10l.94 2.06.94-2.06 2.06-.94-2.06-.94-.94-2.06-.94 2.06-2.06.94z\"/><path d=\"M17.41 7.96l-1.37-1.37c-.4-.4-.92-.59-1.43-.59-.52 0-1.04.2-1.43.59L10.3 9.45l-7.72 7.72c-.78.78-.78 2.05 0 2.83L4 21.41c.39.39.9.59 1.41.59.51 0 1.02-.2 1.41-.59l7.78-7.78 2.81-2.81c.8-.78.8-2.07 0-2.86zM5.41 20L4 18.59l7.72-7.72 1.47 1.35L5.41 20z\"/>\n",
              "  </svg>\n",
              "      </button>\n",
              "      \n",
              "  <style>\n",
              "    .colab-df-container {\n",
              "      display:flex;\n",
              "      flex-wrap:wrap;\n",
              "      gap: 12px;\n",
              "    }\n",
              "\n",
              "    .colab-df-convert {\n",
              "      background-color: #E8F0FE;\n",
              "      border: none;\n",
              "      border-radius: 50%;\n",
              "      cursor: pointer;\n",
              "      display: none;\n",
              "      fill: #1967D2;\n",
              "      height: 32px;\n",
              "      padding: 0 0 0 0;\n",
              "      width: 32px;\n",
              "    }\n",
              "\n",
              "    .colab-df-convert:hover {\n",
              "      background-color: #E2EBFA;\n",
              "      box-shadow: 0px 1px 2px rgba(60, 64, 67, 0.3), 0px 1px 3px 1px rgba(60, 64, 67, 0.15);\n",
              "      fill: #174EA6;\n",
              "    }\n",
              "\n",
              "    [theme=dark] .colab-df-convert {\n",
              "      background-color: #3B4455;\n",
              "      fill: #D2E3FC;\n",
              "    }\n",
              "\n",
              "    [theme=dark] .colab-df-convert:hover {\n",
              "      background-color: #434B5C;\n",
              "      box-shadow: 0px 1px 3px 1px rgba(0, 0, 0, 0.15);\n",
              "      filter: drop-shadow(0px 1px 2px rgba(0, 0, 0, 0.3));\n",
              "      fill: #FFFFFF;\n",
              "    }\n",
              "  </style>\n",
              "\n",
              "      <script>\n",
              "        const buttonEl =\n",
              "          document.querySelector('#df-27c63778-f857-4cc4-81af-60a8085443b3 button.colab-df-convert');\n",
              "        buttonEl.style.display =\n",
              "          google.colab.kernel.accessAllowed ? 'block' : 'none';\n",
              "\n",
              "        async function convertToInteractive(key) {\n",
              "          const element = document.querySelector('#df-27c63778-f857-4cc4-81af-60a8085443b3');\n",
              "          const dataTable =\n",
              "            await google.colab.kernel.invokeFunction('convertToInteractive',\n",
              "                                                     [key], {});\n",
              "          if (!dataTable) return;\n",
              "\n",
              "          const docLinkHtml = 'Like what you see? Visit the ' +\n",
              "            '<a target=\"_blank\" href=https://colab.research.google.com/notebooks/data_table.ipynb>data table notebook</a>'\n",
              "            + ' to learn more about interactive tables.';\n",
              "          element.innerHTML = '';\n",
              "          dataTable['output_type'] = 'display_data';\n",
              "          await google.colab.output.renderOutput(dataTable, element);\n",
              "          const docLink = document.createElement('div');\n",
              "          docLink.innerHTML = docLinkHtml;\n",
              "          element.appendChild(docLink);\n",
              "        }\n",
              "      </script>\n",
              "    </div>\n",
              "  </div>\n",
              "  "
            ]
          },
          "metadata": {},
          "execution_count": 7
        }
      ],
      "source": [
        "fx_df"
      ]
    },
    {
      "cell_type": "markdown",
      "metadata": {
        "id": "IQqyEeNoQ7Q9"
      },
      "source": [
        "# PART 3: DISPLAYING YOUR DATAFRAME [2 marks]\n",
        "\n",
        "##* Replace 'my_dataframe_name' with the name you created when loading the dataframe\n",
        "##* Create a Colab 'text' (or markdown) cell (instead of a code cell) and write a short description of the dataframe"
      ]
    },
    {
      "cell_type": "code",
      "execution_count": 8,
      "metadata": {
        "colab": {
          "base_uri": "https://localhost:8080/",
          "height": 424
        },
        "id": "E8RDlcwIQ7Q9",
        "outputId": "7773e0e9-97f5-48c0-9d83-7a8b542b4282"
      },
      "outputs": [
        {
          "output_type": "execute_result",
          "data": {
            "text/plain": [
              "             Date                 Branch Product Currency  CurrencyAmt  \\\n",
              "0      2014-05-01    48 MARTIN PL SYDNEY   Notes      CZK        51900   \n",
              "1      2014-05-01   66 EAGLE ST BRISBANE   Notes      IDR     19500000   \n",
              "2      2014-05-01           ALBANY CREEK   Notes      EGP         2730   \n",
              "3      2014-05-01            Albion Park   Notes      CNY         5285   \n",
              "4      2014-05-01            Albion Park   Notes      HKD          690   \n",
              "...           ...                    ...     ...      ...          ...   \n",
              "10869  2014-06-30            WYNYARD TAS   Notes      USD         1000   \n",
              "10870  2014-06-30             YARRA GLEN   Notes      THB        57700   \n",
              "10871  2014-06-30             YARRA GLEN   Notes      NZD          300   \n",
              "10872  2014-06-30             YARRAWONGA   Notes      USD          600   \n",
              "10873  2014-06-30                  YOUNG   Notes      USD          250   \n",
              "\n",
              "       CustRate  CustAUD State  \n",
              "0         16.19  3205.66   NSW  \n",
              "1       9732.88  2003.52   QLD  \n",
              "2          5.46   500.23   QLD  \n",
              "3          5.28  1000.55   NSW  \n",
              "4          6.85   100.80   NSW  \n",
              "...         ...      ...   ...  \n",
              "10869      0.90  1109.63   TAS  \n",
              "10870     28.85  2000.00   VIC  \n",
              "10871      1.02   292.77   VIC  \n",
              "10872      0.90   664.97   VIC  \n",
              "10873      0.90   277.41   NSW  \n",
              "\n",
              "[10874 rows x 8 columns]"
            ],
            "text/html": [
              "\n",
              "  <div id=\"df-aff54e69-0b3a-4ea3-90fd-f62ebb59b309\">\n",
              "    <div class=\"colab-df-container\">\n",
              "      <div>\n",
              "<style scoped>\n",
              "    .dataframe tbody tr th:only-of-type {\n",
              "        vertical-align: middle;\n",
              "    }\n",
              "\n",
              "    .dataframe tbody tr th {\n",
              "        vertical-align: top;\n",
              "    }\n",
              "\n",
              "    .dataframe thead th {\n",
              "        text-align: right;\n",
              "    }\n",
              "</style>\n",
              "<table border=\"1\" class=\"dataframe\">\n",
              "  <thead>\n",
              "    <tr style=\"text-align: right;\">\n",
              "      <th></th>\n",
              "      <th>Date</th>\n",
              "      <th>Branch</th>\n",
              "      <th>Product</th>\n",
              "      <th>Currency</th>\n",
              "      <th>CurrencyAmt</th>\n",
              "      <th>CustRate</th>\n",
              "      <th>CustAUD</th>\n",
              "      <th>State</th>\n",
              "    </tr>\n",
              "  </thead>\n",
              "  <tbody>\n",
              "    <tr>\n",
              "      <th>0</th>\n",
              "      <td>2014-05-01</td>\n",
              "      <td>48 MARTIN PL SYDNEY</td>\n",
              "      <td>Notes</td>\n",
              "      <td>CZK</td>\n",
              "      <td>51900</td>\n",
              "      <td>16.19</td>\n",
              "      <td>3205.66</td>\n",
              "      <td>NSW</td>\n",
              "    </tr>\n",
              "    <tr>\n",
              "      <th>1</th>\n",
              "      <td>2014-05-01</td>\n",
              "      <td>66 EAGLE ST BRISBANE</td>\n",
              "      <td>Notes</td>\n",
              "      <td>IDR</td>\n",
              "      <td>19500000</td>\n",
              "      <td>9732.88</td>\n",
              "      <td>2003.52</td>\n",
              "      <td>QLD</td>\n",
              "    </tr>\n",
              "    <tr>\n",
              "      <th>2</th>\n",
              "      <td>2014-05-01</td>\n",
              "      <td>ALBANY CREEK</td>\n",
              "      <td>Notes</td>\n",
              "      <td>EGP</td>\n",
              "      <td>2730</td>\n",
              "      <td>5.46</td>\n",
              "      <td>500.23</td>\n",
              "      <td>QLD</td>\n",
              "    </tr>\n",
              "    <tr>\n",
              "      <th>3</th>\n",
              "      <td>2014-05-01</td>\n",
              "      <td>Albion Park</td>\n",
              "      <td>Notes</td>\n",
              "      <td>CNY</td>\n",
              "      <td>5285</td>\n",
              "      <td>5.28</td>\n",
              "      <td>1000.55</td>\n",
              "      <td>NSW</td>\n",
              "    </tr>\n",
              "    <tr>\n",
              "      <th>4</th>\n",
              "      <td>2014-05-01</td>\n",
              "      <td>Albion Park</td>\n",
              "      <td>Notes</td>\n",
              "      <td>HKD</td>\n",
              "      <td>690</td>\n",
              "      <td>6.85</td>\n",
              "      <td>100.80</td>\n",
              "      <td>NSW</td>\n",
              "    </tr>\n",
              "    <tr>\n",
              "      <th>...</th>\n",
              "      <td>...</td>\n",
              "      <td>...</td>\n",
              "      <td>...</td>\n",
              "      <td>...</td>\n",
              "      <td>...</td>\n",
              "      <td>...</td>\n",
              "      <td>...</td>\n",
              "      <td>...</td>\n",
              "    </tr>\n",
              "    <tr>\n",
              "      <th>10869</th>\n",
              "      <td>2014-06-30</td>\n",
              "      <td>WYNYARD TAS</td>\n",
              "      <td>Notes</td>\n",
              "      <td>USD</td>\n",
              "      <td>1000</td>\n",
              "      <td>0.90</td>\n",
              "      <td>1109.63</td>\n",
              "      <td>TAS</td>\n",
              "    </tr>\n",
              "    <tr>\n",
              "      <th>10870</th>\n",
              "      <td>2014-06-30</td>\n",
              "      <td>YARRA GLEN</td>\n",
              "      <td>Notes</td>\n",
              "      <td>THB</td>\n",
              "      <td>57700</td>\n",
              "      <td>28.85</td>\n",
              "      <td>2000.00</td>\n",
              "      <td>VIC</td>\n",
              "    </tr>\n",
              "    <tr>\n",
              "      <th>10871</th>\n",
              "      <td>2014-06-30</td>\n",
              "      <td>YARRA GLEN</td>\n",
              "      <td>Notes</td>\n",
              "      <td>NZD</td>\n",
              "      <td>300</td>\n",
              "      <td>1.02</td>\n",
              "      <td>292.77</td>\n",
              "      <td>VIC</td>\n",
              "    </tr>\n",
              "    <tr>\n",
              "      <th>10872</th>\n",
              "      <td>2014-06-30</td>\n",
              "      <td>YARRAWONGA</td>\n",
              "      <td>Notes</td>\n",
              "      <td>USD</td>\n",
              "      <td>600</td>\n",
              "      <td>0.90</td>\n",
              "      <td>664.97</td>\n",
              "      <td>VIC</td>\n",
              "    </tr>\n",
              "    <tr>\n",
              "      <th>10873</th>\n",
              "      <td>2014-06-30</td>\n",
              "      <td>YOUNG</td>\n",
              "      <td>Notes</td>\n",
              "      <td>USD</td>\n",
              "      <td>250</td>\n",
              "      <td>0.90</td>\n",
              "      <td>277.41</td>\n",
              "      <td>NSW</td>\n",
              "    </tr>\n",
              "  </tbody>\n",
              "</table>\n",
              "<p>10874 rows × 8 columns</p>\n",
              "</div>\n",
              "      <button class=\"colab-df-convert\" onclick=\"convertToInteractive('df-aff54e69-0b3a-4ea3-90fd-f62ebb59b309')\"\n",
              "              title=\"Convert this dataframe to an interactive table.\"\n",
              "              style=\"display:none;\">\n",
              "        \n",
              "  <svg xmlns=\"http://www.w3.org/2000/svg\" height=\"24px\"viewBox=\"0 0 24 24\"\n",
              "       width=\"24px\">\n",
              "    <path d=\"M0 0h24v24H0V0z\" fill=\"none\"/>\n",
              "    <path d=\"M18.56 5.44l.94 2.06.94-2.06 2.06-.94-2.06-.94-.94-2.06-.94 2.06-2.06.94zm-11 1L8.5 8.5l.94-2.06 2.06-.94-2.06-.94L8.5 2.5l-.94 2.06-2.06.94zm10 10l.94 2.06.94-2.06 2.06-.94-2.06-.94-.94-2.06-.94 2.06-2.06.94z\"/><path d=\"M17.41 7.96l-1.37-1.37c-.4-.4-.92-.59-1.43-.59-.52 0-1.04.2-1.43.59L10.3 9.45l-7.72 7.72c-.78.78-.78 2.05 0 2.83L4 21.41c.39.39.9.59 1.41.59.51 0 1.02-.2 1.41-.59l7.78-7.78 2.81-2.81c.8-.78.8-2.07 0-2.86zM5.41 20L4 18.59l7.72-7.72 1.47 1.35L5.41 20z\"/>\n",
              "  </svg>\n",
              "      </button>\n",
              "      \n",
              "  <style>\n",
              "    .colab-df-container {\n",
              "      display:flex;\n",
              "      flex-wrap:wrap;\n",
              "      gap: 12px;\n",
              "    }\n",
              "\n",
              "    .colab-df-convert {\n",
              "      background-color: #E8F0FE;\n",
              "      border: none;\n",
              "      border-radius: 50%;\n",
              "      cursor: pointer;\n",
              "      display: none;\n",
              "      fill: #1967D2;\n",
              "      height: 32px;\n",
              "      padding: 0 0 0 0;\n",
              "      width: 32px;\n",
              "    }\n",
              "\n",
              "    .colab-df-convert:hover {\n",
              "      background-color: #E2EBFA;\n",
              "      box-shadow: 0px 1px 2px rgba(60, 64, 67, 0.3), 0px 1px 3px 1px rgba(60, 64, 67, 0.15);\n",
              "      fill: #174EA6;\n",
              "    }\n",
              "\n",
              "    [theme=dark] .colab-df-convert {\n",
              "      background-color: #3B4455;\n",
              "      fill: #D2E3FC;\n",
              "    }\n",
              "\n",
              "    [theme=dark] .colab-df-convert:hover {\n",
              "      background-color: #434B5C;\n",
              "      box-shadow: 0px 1px 3px 1px rgba(0, 0, 0, 0.15);\n",
              "      filter: drop-shadow(0px 1px 2px rgba(0, 0, 0, 0.3));\n",
              "      fill: #FFFFFF;\n",
              "    }\n",
              "  </style>\n",
              "\n",
              "      <script>\n",
              "        const buttonEl =\n",
              "          document.querySelector('#df-aff54e69-0b3a-4ea3-90fd-f62ebb59b309 button.colab-df-convert');\n",
              "        buttonEl.style.display =\n",
              "          google.colab.kernel.accessAllowed ? 'block' : 'none';\n",
              "\n",
              "        async function convertToInteractive(key) {\n",
              "          const element = document.querySelector('#df-aff54e69-0b3a-4ea3-90fd-f62ebb59b309');\n",
              "          const dataTable =\n",
              "            await google.colab.kernel.invokeFunction('convertToInteractive',\n",
              "                                                     [key], {});\n",
              "          if (!dataTable) return;\n",
              "\n",
              "          const docLinkHtml = 'Like what you see? Visit the ' +\n",
              "            '<a target=\"_blank\" href=https://colab.research.google.com/notebooks/data_table.ipynb>data table notebook</a>'\n",
              "            + ' to learn more about interactive tables.';\n",
              "          element.innerHTML = '';\n",
              "          dataTable['output_type'] = 'display_data';\n",
              "          await google.colab.output.renderOutput(dataTable, element);\n",
              "          const docLink = document.createElement('div');\n",
              "          docLink.innerHTML = docLinkHtml;\n",
              "          element.appendChild(docLink);\n",
              "        }\n",
              "      </script>\n",
              "    </div>\n",
              "  </div>\n",
              "  "
            ]
          },
          "metadata": {},
          "execution_count": 8
        }
      ],
      "source": [
        "# display the contents of the dataframe\n",
        "# what should my_dataframe_name be?\n",
        "fx_df"
      ]
    },
    {
      "cell_type": "markdown",
      "metadata": {
        "id": "A0tDqF_gCICm"
      },
      "source": [
        "The dataframe has 10874 rows and 8 columns. The columns are Date (date), Branch (string), Product (string), Currency (string), CurrencyAmt (number), CustRate (number), CustAUD (number) and state (string)"
      ]
    },
    {
      "cell_type": "markdown",
      "metadata": {
        "id": "V8EDnvzMQ7Q-"
      },
      "source": [
        "# PART 4: CREATING FEEDFORWARD NEURAL NETWORKS"
      ]
    },
    {
      "cell_type": "markdown",
      "metadata": {
        "id": "ULmEb7V3Q7Q_"
      },
      "source": [
        "# CREATE NEURAL NETWORKS  - THE SEQUENTIAL WAY\n",
        "\n",
        "##* using tensorflow keras API (Application Programming Interface)\n",
        "##* An API simplifies the creation of neural networks\n"
      ]
    },
    {
      "cell_type": "markdown",
      "metadata": {
        "id": "FOAbptoTQ7Q_"
      },
      "source": [
        "# STEP 1: create a model name (create a Pokemon)  [2 marks]\n",
        "\n",
        "##* go to any one of the following links and select your Pokemon\n",
        "##* you will use your Pokemon (its name) and gradually give it neural networks with increasing sophistication\n",
        "\n",
        "## The lists of Pokémons:\n",
        "##* https://www.businessinsider.com.au/most-popular-pokemon-fan-vote-reddit-survey-2019-6\n",
        "##* https://www.businessinsider.com/every-pokemon-in-pokemon-go-full-list-2017-2?r=AU&IR=T\n",
        "##* https://www.ranker.com/list/complete-list-of-all-pokemon-characters/video-game-info\n",
        "##* https://pokemon.fandom.com/wiki/List_of_Pok%C3%A9mon\n"
      ]
    },
    {
      "cell_type": "markdown",
      "metadata": {
        "id": "ZIITV5e3Q7RG"
      },
      "source": [
        "# You must name your Pokemon instead of Pikachu\n",
        "\n",
        "## Notes: pikachu_sequential_model is a variable or label - you must change this to your own Pokemon"
      ]
    },
    {
      "cell_type": "code",
      "execution_count": 9,
      "metadata": {
        "id": "ntSg5d_DQ7RH"
      },
      "outputs": [],
      "source": [
        "# name your pokemon - this is a variable\n",
        "# in this case the name of the Pokemon will be attached or bound to a sequential neural network\n",
        "charizard_sequential_model = keras.Sequential()"
      ]
    },
    {
      "cell_type": "markdown",
      "metadata": {
        "id": "8th13vd9Q7RH"
      },
      "source": [
        "# STEP 2: add a fully connected neural network layer to the model  with 4 neurons [1 mark]\n",
        "* called Dense because every neuron is connected to every other\n",
        "* documentation: https://keras.io/api/layers/core_layers/dense/"
      ]
    },
    {
      "cell_type": "code",
      "execution_count": 10,
      "metadata": {
        "id": "L3NGqAj-Q7RH"
      },
      "outputs": [],
      "source": [
        "# add a dense neural network layer\n",
        "charizard_sequential_model.add(layers.Dense(4, activation=\"relu\", name='layer1'))"
      ]
    },
    {
      "cell_type": "markdown",
      "metadata": {
        "id": "CJx9uip9Q7RH"
      },
      "source": [
        "# STEP 3: add another Dense layer [1 mark]"
      ]
    },
    {
      "cell_type": "code",
      "execution_count": 11,
      "metadata": {
        "id": "mQpIPO0IQ7RH"
      },
      "outputs": [],
      "source": [
        "charizard_sequential_model.add(layers.Dense(8, activation='relu', name='layer2'))"
      ]
    },
    {
      "cell_type": "markdown",
      "metadata": {
        "id": "HGBtE_fPQ7RI"
      },
      "source": [
        "# STEP 4: add a final output Dense layer [1 mark]\n",
        "* make the number of neurons 4"
      ]
    },
    {
      "cell_type": "code",
      "execution_count": 12,
      "metadata": {
        "id": "ihJGbMrIQ7RI"
      },
      "outputs": [],
      "source": [
        "charizard_sequential_model.add(layers.Dense(4, activation='relu', name='output_layer3'))"
      ]
    },
    {
      "cell_type": "markdown",
      "metadata": {
        "id": "StGRBlJwQ7RI"
      },
      "source": [
        "# STEP 5: give pokemon dummy data"
      ]
    },
    {
      "cell_type": "code",
      "execution_count": 13,
      "metadata": {
        "id": "-049PzEoQ7RI"
      },
      "outputs": [],
      "source": [
        "# create dummy data\n",
        "x = tf.ones((1, 4))"
      ]
    },
    {
      "cell_type": "code",
      "execution_count": 14,
      "metadata": {
        "colab": {
          "base_uri": "https://localhost:8080/"
        },
        "id": "pTuuHpGzQ7RJ",
        "outputId": "d57e177d-fee0-4b37-f5d2-a677d9c65f5e"
      },
      "outputs": [
        {
          "output_type": "execute_result",
          "data": {
            "text/plain": [
              "<tf.Tensor: shape=(1, 4), dtype=float32, numpy=array([[1., 1., 1., 1.]], dtype=float32)>"
            ]
          },
          "metadata": {},
          "execution_count": 14
        }
      ],
      "source": [
        "# display dummy data\n",
        "x"
      ]
    },
    {
      "cell_type": "code",
      "execution_count": 15,
      "metadata": {
        "id": "UCxCwjQ7Q7RJ"
      },
      "outputs": [],
      "source": [
        "# pass dummy data to Pokemon\n",
        "y = charizard_sequential_model(x)"
      ]
    },
    {
      "cell_type": "code",
      "execution_count": 16,
      "metadata": {
        "colab": {
          "base_uri": "https://localhost:8080/"
        },
        "id": "RXmheMlWQ7RJ",
        "outputId": "4620d40e-3e77-4518-f82f-14f8eb47004a"
      },
      "outputs": [
        {
          "output_type": "execute_result",
          "data": {
            "text/plain": [
              "<tf.Tensor: shape=(1, 4), dtype=float32, numpy=array([[0., 0., 0., 0.]], dtype=float32)>"
            ]
          },
          "metadata": {},
          "execution_count": 16
        }
      ],
      "source": [
        "# display y\n",
        "y"
      ]
    },
    {
      "cell_type": "code",
      "execution_count": 17,
      "metadata": {
        "colab": {
          "base_uri": "https://localhost:8080/"
        },
        "id": "Np3rSb84Q7RJ",
        "outputId": "f2c3503c-04d4-4711-eb19-91a0abc93ee5"
      },
      "outputs": [
        {
          "output_type": "stream",
          "name": "stdout",
          "text": [
            "Model: \"sequential\"\n",
            "_________________________________________________________________\n",
            " Layer (type)                Output Shape              Param #   \n",
            "=================================================================\n",
            " layer1 (Dense)              (1, 4)                    20        \n",
            "                                                                 \n",
            " layer2 (Dense)              (1, 8)                    40        \n",
            "                                                                 \n",
            " output_layer3 (Dense)       (1, 4)                    36        \n",
            "                                                                 \n",
            "=================================================================\n",
            "Total params: 96\n",
            "Trainable params: 96\n",
            "Non-trainable params: 0\n",
            "_________________________________________________________________\n"
          ]
        }
      ],
      "source": [
        "# show a summary of the Pokemon neural network\n",
        "charizard_sequential_model.summary()"
      ]
    },
    {
      "cell_type": "code",
      "execution_count": 18,
      "metadata": {
        "colab": {
          "base_uri": "https://localhost:8080/"
        },
        "id": "2J80fS2QQ7RK",
        "outputId": "815a5f7e-a2b0-44bc-cb0b-5b832f96ede8"
      },
      "outputs": [
        {
          "output_type": "execute_result",
          "data": {
            "text/plain": [
              "[<tf.Variable 'layer1/kernel:0' shape=(4, 4) dtype=float32, numpy=\n",
              " array([[ 0.29948777,  0.3075828 ,  0.8364739 , -0.5111145 ],\n",
              "        [ 0.5481735 , -0.12744248,  0.09016007, -0.34807426],\n",
              "        [ 0.48125237, -0.33805948, -0.12698883, -0.07225215],\n",
              "        [-0.8507207 ,  0.5248347 ,  0.65274876,  0.02669412]],\n",
              "       dtype=float32)>,\n",
              " <tf.Variable 'layer1/bias:0' shape=(4,) dtype=float32, numpy=array([0., 0., 0., 0.], dtype=float32)>,\n",
              " <tf.Variable 'layer2/kernel:0' shape=(4, 8) dtype=float32, numpy=\n",
              " array([[ 0.08703643, -0.49703473,  0.00235516, -0.6981516 , -0.51172173,\n",
              "          0.03457135, -0.3556641 , -0.0470745 ],\n",
              "        [-0.4740593 , -0.10786408, -0.23570758,  0.33058566, -0.6330549 ,\n",
              "         -0.29160106, -0.04466742, -0.67854047],\n",
              "        [-0.63928425, -0.08281147, -0.4785658 ,  0.5875552 , -0.6158484 ,\n",
              "         -0.41470745,  0.11689109, -0.19145036],\n",
              "        [ 0.4359203 ,  0.02834749,  0.12881714, -0.01513833, -0.06958663,\n",
              "          0.48808736,  0.16420108, -0.39728513]], dtype=float32)>,\n",
              " <tf.Variable 'layer2/bias:0' shape=(8,) dtype=float32, numpy=array([0., 0., 0., 0., 0., 0., 0., 0.], dtype=float32)>,\n",
              " <tf.Variable 'output_layer3/kernel:0' shape=(8, 4) dtype=float32, numpy=\n",
              " array([[-0.09333706,  0.14714187, -0.5914408 ,  0.69950265],\n",
              "        [-0.27196687, -0.34554785,  0.4261195 , -0.3249876 ],\n",
              "        [-0.2675755 , -0.05031443,  0.15445876,  0.08205652],\n",
              "        [-0.47086594, -0.47491896, -0.453743  , -0.12945557],\n",
              "        [-0.5839282 ,  0.21688432,  0.40047294,  0.4062553 ],\n",
              "        [-0.30235457, -0.19319236, -0.21738315, -0.17681193],\n",
              "        [-0.6510314 ,  0.03867328,  0.561982  ,  0.5249967 ],\n",
              "        [ 0.5973502 , -0.49215955,  0.69249374,  0.42131728]],\n",
              "       dtype=float32)>,\n",
              " <tf.Variable 'output_layer3/bias:0' shape=(4,) dtype=float32, numpy=array([0., 0., 0., 0.], dtype=float32)>]"
            ]
          },
          "metadata": {},
          "execution_count": 18
        }
      ],
      "source": [
        "# display the neural network weights of the Pokemon\n",
        "charizard_sequential_model.weights"
      ]
    },
    {
      "cell_type": "markdown",
      "metadata": {
        "id": "_95UaKZYQ7RK"
      },
      "source": [
        "# PART 5: CREATING RECURRENT  NEURAL NETWORKS [3 marks]"
      ]
    },
    {
      "cell_type": "markdown",
      "metadata": {
        "id": "x8YQRGMcQ7RK"
      },
      "source": [
        "##* There are three built-in RNN layers in Keras:\n",
        "\n",
        "##* keras.layers.SimpleRNN, a fully-connected RNN where the output from previous timestep is to be fed to next timestep.\n",
        "\n",
        "##* keras.layers.GRU, first proposed in Cho et al., 2014.\n",
        "\n",
        "##* keras.layers.LSTM, first proposed in Hochreiter & Schmidhuber, 1997.\n",
        "\n",
        "## In early 2015, Keras had the first reusable open-source Python implementations of LSTM and GRU."
      ]
    },
    {
      "cell_type": "markdown",
      "metadata": {
        "id": "KRRYy8A_Q7RK"
      },
      "source": [
        "# STEP 1: create the model\n",
        "\n",
        "## Notes: pikachu_sequential_model_two is the second variable name or label - you must change this to the name of your Pokemon"
      ]
    },
    {
      "cell_type": "code",
      "execution_count": 19,
      "metadata": {
        "id": "34HbczAJQ7RK"
      },
      "outputs": [],
      "source": [
        "charizard_sequential_model_two = keras.Sequential()"
      ]
    },
    {
      "cell_type": "markdown",
      "metadata": {
        "id": "B90e76VoQ7RK"
      },
      "source": [
        "# STEP 2: add an embedding layer for the input data"
      ]
    },
    {
      "cell_type": "code",
      "execution_count": 20,
      "metadata": {
        "id": "bD0HyD6NQ7RL"
      },
      "outputs": [],
      "source": [
        "# Add an Embedding layer expecting input vocab of size 1000, and\n",
        "# output embedding dimension of size 64.\n",
        "charizard_sequential_model_two.add(layers.Embedding(input_dim=1000, output_dim=64))"
      ]
    },
    {
      "cell_type": "markdown",
      "metadata": {
        "id": "p1x84mq0Q7RL"
      },
      "source": [
        "# STEP 3: add a Long-Short-Term-Memory (LSTM) cell layer\n",
        "\n",
        "* LSTMs are a type of Recurrent Neural Network"
      ]
    },
    {
      "cell_type": "code",
      "execution_count": 21,
      "metadata": {
        "id": "TXtX1uHwQ7RL"
      },
      "outputs": [],
      "source": [
        "# Add a LSTM layer with 128 internal units.\n",
        "charizard_sequential_model_two.add(layers.LSTM(128))"
      ]
    },
    {
      "cell_type": "markdown",
      "metadata": {
        "id": "iG31YsllQ7RL"
      },
      "source": [
        "# STEP 4: add a final output class to output classification probabilities"
      ]
    },
    {
      "cell_type": "code",
      "execution_count": 22,
      "metadata": {
        "id": "TXgn6MmCQ7RM"
      },
      "outputs": [],
      "source": [
        "num_classes  = 10\n",
        "# Add a Dense layer with 10 units.\n",
        "charizard_sequential_model_two.add(layers.Dense(num_classes))"
      ]
    },
    {
      "cell_type": "markdown",
      "metadata": {
        "id": "eP7Za4GCQ7RM"
      },
      "source": [
        "# STEP 5: print a summary of the model"
      ]
    },
    {
      "cell_type": "code",
      "execution_count": 23,
      "metadata": {
        "colab": {
          "base_uri": "https://localhost:8080/"
        },
        "id": "4YDtMQB-Q7RM",
        "outputId": "147ee5fd-d2ba-4dfb-cc51-43cc8d81a51f"
      },
      "outputs": [
        {
          "output_type": "stream",
          "name": "stdout",
          "text": [
            "Model: \"sequential_1\"\n",
            "_________________________________________________________________\n",
            " Layer (type)                Output Shape              Param #   \n",
            "=================================================================\n",
            " embedding (Embedding)       (None, None, 64)          64000     \n",
            "                                                                 \n",
            " lstm (LSTM)                 (None, 128)               98816     \n",
            "                                                                 \n",
            " dense (Dense)               (None, 10)                1290      \n",
            "                                                                 \n",
            "=================================================================\n",
            "Total params: 164,106\n",
            "Trainable params: 164,106\n",
            "Non-trainable params: 0\n",
            "_________________________________________________________________\n"
          ]
        }
      ],
      "source": [
        "charizard_sequential_model_two.summary()"
      ]
    },
    {
      "cell_type": "markdown",
      "metadata": {
        "id": "o0eewlu7Q7RM"
      },
      "source": [
        "#STEP 6: create a RNN with [5 marks]\n",
        "##* Gated Recurrent Unit or GRU - another  kind of  RNN\n",
        "##* SimpleRNN - a simple RNN  layers"
      ]
    },
    {
      "cell_type": "code",
      "execution_count": 24,
      "metadata": {
        "colab": {
          "base_uri": "https://localhost:8080/"
        },
        "id": "Wna8tMaLQ7RM",
        "outputId": "e67c5787-5cb8-43c9-bd7d-de849b889fc4"
      },
      "outputs": [
        {
          "output_type": "stream",
          "name": "stdout",
          "text": [
            "Model: \"sequential_2\"\n",
            "_________________________________________________________________\n",
            " Layer (type)                Output Shape              Param #   \n",
            "=================================================================\n",
            " embedding_1 (Embedding)     (None, None, 64)          64000     \n",
            "                                                                 \n",
            " gru (GRU)                   (None, None, 256)         247296    \n",
            "                                                                 \n",
            " simple_rnn (SimpleRNN)      (None, 128)               49280     \n",
            "                                                                 \n",
            " dense_1 (Dense)             (None, 10)                1290      \n",
            "                                                                 \n",
            "=================================================================\n",
            "Total params: 361,866\n",
            "Trainable params: 361,866\n",
            "Non-trainable params: 0\n",
            "_________________________________________________________________\n"
          ]
        }
      ],
      "source": [
        "charizard_RNN_model = keras.Sequential()\n",
        "charizard_RNN_model.add(layers.Embedding(input_dim=1000, output_dim=64))\n",
        "\n",
        "# The output of GRU will be a 3D tensor of shape (batch_size, timesteps, 256)\n",
        "charizard_RNN_model.add(layers.GRU(256, return_sequences=True))\n",
        "\n",
        "# The output of SimpleRNN will be a 2D tensor of shape (batch_size, 128)\n",
        "charizard_RNN_model.add(layers.SimpleRNN(128))\n",
        "\n",
        "charizard_RNN_model.add(layers.Dense(10))\n",
        "\n",
        "charizard_RNN_model.summary()"
      ]
    },
    {
      "cell_type": "markdown",
      "metadata": {
        "id": "RDwqE39rQ7RN"
      },
      "source": [
        "# PART 6: create a Convolutional Neural Network [3 marks]"
      ]
    },
    {
      "cell_type": "markdown",
      "metadata": {
        "id": "rIqCMkt9Q7RN"
      },
      "source": [
        "# STEP 1: create a sequential model [1 mark]\n",
        "\n",
        "##* change Pikachu to the name of your Pokemon"
      ]
    },
    {
      "cell_type": "code",
      "execution_count": null,
      "metadata": {
        "id": "SIbfq7tlQ7RN"
      },
      "outputs": [],
      "source": [
        "# name of your pokemon\n",
        "charizard_CNN_model = keras.Sequential()"
      ]
    },
    {
      "cell_type": "markdown",
      "metadata": {
        "id": "bgUmzxHQQ7RN"
      },
      "source": [
        "##*  As input, a CNN takes tensors of shape (image_height, image_width, color_channels), ignoring the batch size. \n",
        "##*  If you are new to these dimensions, color_channels refers to (R,G,B). \n",
        "##*  In this example, you will configure your CNN to process inputs of shape (32, 32, 3), which is the format of CIFAR images. \n",
        "##*  You can do this by passing the argument input_shape to your first layer."
      ]
    },
    {
      "cell_type": "code",
      "execution_count": 26,
      "metadata": {
        "id": "5ggZvP4IQ7RN"
      },
      "outputs": [],
      "source": [
        "\n",
        "charizard_CNN_model.add(layers.Conv2D(32, (3, 3), activation='relu', input_shape=(32, 32, 3)))\n",
        "charizard_CNN_model.add(layers.MaxPooling2D((2, 2)))\n",
        "charizard_CNN_model.add(layers.Conv2D(64, (3, 3), activation='relu'))\n",
        "charizard_CNN_model.add(layers.MaxPooling2D((2, 2)))\n",
        "charizard_CNN_model.add(layers.Conv2D(64, (3, 3), activation='relu'))"
      ]
    },
    {
      "cell_type": "code",
      "execution_count": 27,
      "metadata": {
        "colab": {
          "base_uri": "https://localhost:8080/"
        },
        "id": "RctM9IFHQ7RN",
        "outputId": "276c6819-605e-457a-c667-a8db244a7d97"
      },
      "outputs": [
        {
          "output_type": "stream",
          "name": "stdout",
          "text": [
            "Model: \"sequential_3\"\n",
            "_________________________________________________________________\n",
            " Layer (type)                Output Shape              Param #   \n",
            "=================================================================\n",
            " conv2d (Conv2D)             (None, 30, 30, 32)        896       \n",
            "                                                                 \n",
            " max_pooling2d (MaxPooling2D  (None, 15, 15, 32)       0         \n",
            " )                                                               \n",
            "                                                                 \n",
            " conv2d_1 (Conv2D)           (None, 13, 13, 64)        18496     \n",
            "                                                                 \n",
            " max_pooling2d_1 (MaxPooling  (None, 6, 6, 64)         0         \n",
            " 2D)                                                             \n",
            "                                                                 \n",
            " conv2d_2 (Conv2D)           (None, 4, 4, 64)          36928     \n",
            "                                                                 \n",
            "=================================================================\n",
            "Total params: 56,320\n",
            "Trainable params: 56,320\n",
            "Non-trainable params: 0\n",
            "_________________________________________________________________\n"
          ]
        }
      ],
      "source": [
        "charizard_CNN_model.summary()"
      ]
    },
    {
      "cell_type": "code",
      "execution_count": 28,
      "metadata": {
        "id": "bfjgNaeIQ7RO"
      },
      "outputs": [],
      "source": [
        "charizard_CNN_model.add(layers.GlobalMaxPooling2D())"
      ]
    },
    {
      "cell_type": "code",
      "execution_count": 29,
      "metadata": {
        "id": "_qKcS4ugQ7RO"
      },
      "outputs": [],
      "source": [
        "charizard_CNN_model.add(layers.Flatten())\n",
        "charizard_CNN_model.add(layers.Dense(64, activation='relu'))\n",
        "charizard_CNN_model.add(layers.Dense(10))"
      ]
    },
    {
      "cell_type": "code",
      "execution_count": 30,
      "metadata": {
        "colab": {
          "base_uri": "https://localhost:8080/"
        },
        "id": "WfwVTPRdQ7RO",
        "outputId": "8ab68957-e12b-45f9-ef58-61f432abaa8d"
      },
      "outputs": [
        {
          "output_type": "stream",
          "name": "stdout",
          "text": [
            "Model: \"sequential_3\"\n",
            "_________________________________________________________________\n",
            " Layer (type)                Output Shape              Param #   \n",
            "=================================================================\n",
            " conv2d (Conv2D)             (None, 30, 30, 32)        896       \n",
            "                                                                 \n",
            " max_pooling2d (MaxPooling2D  (None, 15, 15, 32)       0         \n",
            " )                                                               \n",
            "                                                                 \n",
            " conv2d_1 (Conv2D)           (None, 13, 13, 64)        18496     \n",
            "                                                                 \n",
            " max_pooling2d_1 (MaxPooling  (None, 6, 6, 64)         0         \n",
            " 2D)                                                             \n",
            "                                                                 \n",
            " conv2d_2 (Conv2D)           (None, 4, 4, 64)          36928     \n",
            "                                                                 \n",
            " global_max_pooling2d (Globa  (None, 64)               0         \n",
            " lMaxPooling2D)                                                  \n",
            "                                                                 \n",
            " flatten (Flatten)           (None, 64)                0         \n",
            "                                                                 \n",
            " dense_2 (Dense)             (None, 64)                4160      \n",
            "                                                                 \n",
            " dense_3 (Dense)             (None, 10)                650       \n",
            "                                                                 \n",
            "=================================================================\n",
            "Total params: 61,130\n",
            "Trainable params: 61,130\n",
            "Non-trainable params: 0\n",
            "_________________________________________________________________\n"
          ]
        }
      ],
      "source": [
        "charizard_CNN_model.summary()"
      ]
    },
    {
      "cell_type": "markdown",
      "metadata": {
        "id": "GeaWFnZ0Q7RO"
      },
      "source": [
        "# PART 7: TRAINING YOUR POKEMON [4 MARKS]"
      ]
    },
    {
      "cell_type": "markdown",
      "metadata": {
        "id": "TGPsSGJHQ7RO"
      },
      "source": [
        "# STEP 1: get some images"
      ]
    },
    {
      "cell_type": "code",
      "execution_count": 31,
      "metadata": {
        "colab": {
          "base_uri": "https://localhost:8080/"
        },
        "id": "MI7Q6BEQQ7RP",
        "outputId": "42962ebb-6b38-49bf-dee3-e4699bd1a778"
      },
      "outputs": [
        {
          "output_type": "stream",
          "name": "stdout",
          "text": [
            "Downloading data from https://www.cs.toronto.edu/~kriz/cifar-10-python.tar.gz\n",
            "170498071/170498071 [==============================] - 5s 0us/step\n"
          ]
        }
      ],
      "source": [
        "(train_images, train_labels), (test_images, test_labels) = datasets.cifar10.load_data()\n",
        "\n",
        "# Normalize pixel values to be between 0 and 1\n",
        "train_images, test_images = train_images / 255.0, test_images / 255.0"
      ]
    },
    {
      "cell_type": "markdown",
      "metadata": {
        "id": "iTCNC3rTQ7RP"
      },
      "source": [
        "# THE ENTITIES IN THE IMAGES\n",
        "##* goal is to correctly predict (classify) an image into one of these classes\n",
        "\n",
        "## ['airplane', 'automobile', 'bird', 'cat', 'deer','dog', 'frog', 'horse', 'ship', 'truck'] i.e., correctly identify the objects in the image\n",
        "\n",
        "##* notes: the number of neurons on the final Dense output layer must be equivalent to the number of classes"
      ]
    },
    {
      "cell_type": "markdown",
      "metadata": {
        "id": "7w14Q-EjQ7RP"
      },
      "source": [
        "# STEP 2: identify the number of entities in the images"
      ]
    },
    {
      "cell_type": "code",
      "execution_count": null,
      "metadata": {
        "id": "4i1gWPctQ7RP"
      },
      "outputs": [],
      "source": [
        "class_names = ['airplane', 'automobile', 'bird', 'cat', 'deer',\n",
        "               'dog', 'frog', 'horse', 'ship', 'truck']"
      ]
    },
    {
      "cell_type": "markdown",
      "metadata": {
        "id": "t30lxYqwQ7RP"
      },
      "source": [
        "# STEP 3: examine images"
      ]
    },
    {
      "cell_type": "code",
      "execution_count": null,
      "metadata": {
        "id": "nUn7Ij56Q7RQ"
      },
      "outputs": [],
      "source": [
        "plt.figure(figsize=(10,10))\n",
        "for i in range(25):\n",
        "    plt.subplot(5,5,i+1)\n",
        "    plt.xticks([])\n",
        "    plt.yticks([])\n",
        "    plt.grid(False)\n",
        "    plt.imshow(train_images[i])\n",
        "    # The CIFAR labels happen to be arrays, \n",
        "    # which is why you need the extra index\n",
        "    plt.xlabel(class_names[train_labels[i][0]])\n",
        "plt.show()"
      ]
    },
    {
      "cell_type": "markdown",
      "metadata": {
        "id": "T-Cx8n8VQ7RQ"
      },
      "source": [
        "# STEP 4: compile how the Pokemon should learn to differentiate between entities"
      ]
    },
    {
      "cell_type": "code",
      "execution_count": null,
      "metadata": {
        "id": "HLQCzE_XQ7RQ"
      },
      "outputs": [],
      "source": [
        "# compile the Convolutional Neural Network\n",
        "charizard_CNN_model.compile(optimizer='adam',\n",
        "              loss=tf.keras.losses.SparseCategoricalCrossentropy(from_logits=True),\n",
        "              metrics=['accuracy'])\n",
        "\n"
      ]
    },
    {
      "cell_type": "markdown",
      "metadata": {
        "id": "zCEmwfygQ7RQ"
      },
      "source": [
        "# STEP 5: examine the Pokemon's neural network layers"
      ]
    },
    {
      "cell_type": "code",
      "execution_count": null,
      "metadata": {
        "id": "WUYYZ1kMQ7RQ"
      },
      "outputs": [],
      "source": [
        "charizard_CNN_model.summary()"
      ]
    },
    {
      "cell_type": "markdown",
      "metadata": {
        "id": "hqOJhin-Q7RQ"
      },
      "source": [
        "# STEP 6: run the Pokemon training routine\n",
        "\n",
        "## Note that the EPOCHS has been set to 10. You may change this if you like (no more than 25 Epochs)\n",
        "## 10 Epochs will take approximately 10 minutes to run"
      ]
    },
    {
      "cell_type": "code",
      "execution_count": null,
      "metadata": {
        "colab": {
          "base_uri": "https://localhost:8080/"
        },
        "id": "7fbvT2eDQ7RR",
        "outputId": "a18602f3-efe1-41b7-b046-7b35cab6b622"
      },
      "outputs": [
        {
          "output_type": "stream",
          "name": "stdout",
          "text": [
            "Epoch 1/10\n",
            "1563/1563 [==============================] - 84s 53ms/step - loss: 1.6659 - accuracy: 0.3825 - val_loss: 1.4483 - val_accuracy: 0.4755\n",
            "Epoch 2/10\n",
            "1563/1563 [==============================] - 76s 49ms/step - loss: 1.3539 - accuracy: 0.5127 - val_loss: 1.2552 - val_accuracy: 0.5498\n",
            "Epoch 3/10\n",
            "1563/1563 [==============================] - 74s 48ms/step - loss: 1.2077 - accuracy: 0.5663 - val_loss: 1.1611 - val_accuracy: 0.5858\n",
            "Epoch 4/10\n",
            "1563/1563 [==============================] - 78s 50ms/step - loss: 1.1119 - accuracy: 0.6051 - val_loss: 1.1122 - val_accuracy: 0.6055\n",
            "Epoch 5/10\n",
            "1211/1563 [======================>.......] - ETA: 15s - loss: 1.0343 - accuracy: 0.6320"
          ]
        }
      ],
      "source": [
        "# train your Pokemon\n",
        "charizard_training_history = charizard_CNN_model.fit(train_images, train_labels, epochs=10, \n",
        "                    validation_data=(test_images, test_labels))"
      ]
    },
    {
      "cell_type": "markdown",
      "metadata": {
        "id": "IXY5w7UcQ7RR"
      },
      "source": [
        "# STEP 7: visualise the Pokemon training routine"
      ]
    },
    {
      "cell_type": "code",
      "execution_count": 39,
      "metadata": {
        "colab": {
          "base_uri": "https://localhost:8080/",
          "height": 300
        },
        "id": "5rO4Y4uFQ7RR",
        "outputId": "99a4ef09-ebdb-46cb-9fb5-ac14e098aedd"
      },
      "outputs": [
        {
          "output_type": "stream",
          "name": "stdout",
          "text": [
            "313/313 - 8s - loss: 0.9712 - accuracy: 0.6633 - 8s/epoch - 24ms/step\n"
          ]
        },
        {
          "output_type": "display_data",
          "data": {
            "text/plain": [
              "<Figure size 432x288 with 1 Axes>"
            ],
            "image/png": "[encoded data removed]"
          },
          "metadata": {
            "needs_background": "light"
          }
        }
      ],
      "source": [
        "plt.plot(charizard_training_history.history['accuracy'], label='accuracy')\n",
        "plt.plot(charizard_training_history.history['val_accuracy'], label = 'val_accuracy')\n",
        "plt.xlabel('Epoch')\n",
        "plt.ylabel('Accuracy')\n",
        "plt.ylim([0.5, 1])\n",
        "plt.legend(loc='lower right')\n",
        "\n",
        "test_loss, test_acc = charizard_CNN_model.evaluate(test_images,  test_labels, verbose=2)"
      ]
    },
    {
      "cell_type": "markdown",
      "metadata": {
        "id": "SxGk0e75Q7RR"
      },
      "source": [
        "# STEP 8: the accuracy of the Pokemon"
      ]
    },
    {
      "cell_type": "code",
      "execution_count": 40,
      "metadata": {
        "colab": {
          "base_uri": "https://localhost:8080/"
        },
        "id": "ZK5VKLbZQ7RR",
        "outputId": "89daa4bc-9b77-4beb-ac4d-8f94b614f915"
      },
      "outputs": [
        {
          "output_type": "stream",
          "name": "stdout",
          "text": [
            "0.6632999777793884\n"
          ]
        }
      ],
      "source": [
        "# display the accuracy of your Pokemon\n",
        "print(test_acc)"
      ]
    },
    {
      "cell_type": "markdown",
      "metadata": {
        "id": "yro-P1ONS5pR"
      },
      "source": [
        "# Final Instructions:\n",
        "## Create a shareable link of your notebook and email you lecturer this link."
      ]
    },
    {
      "cell_type": "markdown",
      "metadata": {
        "id": "fd7D6iPHRgkm"
      },
      "source": [
        "# END OF ASSESSMENT - Well done :)"
      ]
    }
  ],
  "metadata": {
    "colab": {
      "provenance": []
    },
    "interpreter": {
      "hash": "949777d72b0d2535278d3dc13498b2535136f6dfe0678499012e853ee9abcab1"
    },
    "kernelspec": {
      "display_name": "Python 3",
      "language": "python",
      "name": "python3"
    },
    "language_info": {
      "codemirror_mode": {
        "name": "ipython",
        "version": 3
      },
      "file_extension": ".py",
      "mimetype": "text/x-python",
      "name": "python",
      "nbconvert_exporter": "python",
      "pygments_lexer": "ipython3",
      "version": "3.8.8"
    }
  },
  "nbformat": 4,
  "nbformat_minor": 0
}